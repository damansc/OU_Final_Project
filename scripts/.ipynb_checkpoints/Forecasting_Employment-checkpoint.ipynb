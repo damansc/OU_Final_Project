{
 "cells": [
  {
   "cell_type": "code",
   "execution_count": 169,
   "metadata": {},
   "outputs": [],
   "source": [
    "import pandas as pd\n",
    "import statsmodels.api as sm\n",
    "import numpy as np\n",
    "import os\n",
    "\n",
    "os.chdir('../data')"
   ]
  },
  {
   "cell_type": "markdown",
   "metadata": {},
   "source": [
    "Data imported is BLS data for monthly total employment for the manufacturing industry from 2009m1 to 2019m3. Data for 2009 will be treated as an outlier as it is still showing effects from the fiancial crisis. This recession data will be removed to avoid it influecing any forecasted projections. Data will start in 2010m1."
   ]
  },
  {
   "cell_type": "code",
   "execution_count": 151,
   "metadata": {},
   "outputs": [
    {
     "name": "stdout",
     "output_type": "stream",
     "text": [
      "index set for range and 2009 removed\n"
     ]
    }
   ],
   "source": [
    "mfg_emp = pd.read_excel('mfg/employment_tot.xlsx', skiprows=12, usecols=['Value'])\n",
    "\n",
    "dateind = pd.date_range(start='01/01/2009', end='04/01/2019', freq='M')\n",
    "\n",
    "mfg_emp.set_index([dateind], inplace=True)\n",
    "\n",
    "mfg_emp2 = mfg_emp['01/01/2010':][:]\n",
    "\n",
    "print('index set for range and 2009 removed')"
   ]
  },
  {
   "cell_type": "markdown",
   "metadata": {},
   "source": [
    "Creating an index column and basing to 2010m1. This will standardize the data when comparing to other employment growth trends in other industries. Linear regression and an exponential growth model will both be applied to this data to forecast employment trends based on the current economic and technological environment. This is not an extremely complicated forecasting method that does not account for technology changes and the possiblity of exponential growth in the incorporation of automation."
   ]
  },
  {
   "cell_type": "code",
   "execution_count": 152,
   "metadata": {},
   "outputs": [
    {
     "data": {
      "text/plain": [
       "<matplotlib.axes._subplots.AxesSubplot at 0x1e1b0e649b0>"
      ]
     },
     "execution_count": 152,
     "metadata": {},
     "output_type": "execute_result"
    },
    {
     "data": {
      "image/png": "[encoded data removed]",
      "text/plain": [
       "<Figure size 432x288 with 1 Axes>"
      ]
     },
     "metadata": {
      "needs_background": "light"
     },
     "output_type": "display_data"
    }
   ],
   "source": [
    "mfg_emp2['base index'] = mfg_emp2['Value']/mfg_emp2['Value'][0]\n",
    "mfg_emp2['base index'].plot()"
   ]
  },
  {
   "cell_type": "markdown",
   "metadata": {},
   "source": [
    "A simple regression equation will be created. This equation will then be used to forecast employment trends through 2040. This is understandably a long forecast for the amount of historical data."
   ]
  },
  {
   "cell_type": "code",
   "execution_count": 167,
   "metadata": {},
   "outputs": [
    {
     "data": {
      "text/plain": [
       "0      1.000000\n",
       "1      0.999389\n",
       "2      0.999389\n",
       "3      1.002531\n",
       "4      1.005672\n",
       "5      1.007417\n",
       "6      1.008813\n",
       "7      1.008115\n",
       "8      1.008988\n",
       "9      1.008901\n",
       "10     1.010908\n",
       "11     1.011780\n",
       "12     1.014049\n",
       "13     1.016928\n",
       "14     1.018761\n",
       "15     1.021291\n",
       "16     1.022077\n",
       "17     1.023298\n",
       "18     1.024956\n",
       "19     1.026527\n",
       "20     1.026963\n",
       "21     1.027923\n",
       "22     1.027051\n",
       "23     1.029843\n",
       "24     1.032984\n",
       "25     1.034904\n",
       "26     1.038220\n",
       "27     1.039791\n",
       "28     1.040750\n",
       "29     1.041536\n",
       "         ...   \n",
       "81     1.076876\n",
       "82     1.076876\n",
       "83     1.078098\n",
       "84     1.079232\n",
       "85     1.080803\n",
       "86     1.081588\n",
       "87     1.082286\n",
       "88     1.082461\n",
       "89     1.083770\n",
       "90     1.083508\n",
       "91     1.087173\n",
       "92     1.087871\n",
       "93     1.089616\n",
       "94     1.092234\n",
       "95     1.094677\n",
       "96     1.096073\n",
       "97     1.098778\n",
       "98     1.100524\n",
       "99     1.102443\n",
       "100    1.104276\n",
       "101    1.107068\n",
       "102    1.108813\n",
       "103    1.109511\n",
       "104    1.111082\n",
       "105    1.113613\n",
       "106    1.115969\n",
       "107    1.117714\n",
       "108    1.119197\n",
       "109    1.119284\n",
       "110    1.118761\n",
       "Name: base index, Length: 111, dtype: float64"
      ]
     },
     "execution_count": 167,
     "metadata": {},
     "output_type": "execute_result"
    }
   ],
   "source": [
    "X = []\n",
    "for x in range(len(mfg_emp2.index)):\n",
    "    temp = x\n",
    "    X.append(x)\n",
    "\n",
    "y = mfg_emp2.reset_index(drop=True)['base index']\n",
    "\n",
    "model = sm.OLS(y, X).fit()\n",
    "predictions = model.predict(X) \n",
    "\n",
    "# Print out the statistics\n",
    "model.summary()"
   ]
  },
  {
   "cell_type": "markdown",
   "metadata": {},
   "source": [
    "Creating a datetimeindex that spans the historical and prediction range. Will then use similar method of creating a range in place of the dates to be used as the independent value for the regression. Will then subset this to start where the historical period ends for running the regression during the projection time span."
   ]
  },
  {
   "cell_type": "code",
   "execution_count": 154,
   "metadata": {},
   "outputs": [
    {
     "data": {
      "text/plain": [
       "0"
      ]
     },
     "execution_count": 154,
     "metadata": {},
     "output_type": "execute_result"
    }
   ],
   "source": [
    "projdates = pd.date_range(start='01/01/2010', end='01/01/2041', freq='m')\n",
    "proj_X1 = []\n",
    "\n",
    "for x in range(len(projdates)):\n",
    "    temp = x\n",
    "    proj_X1.append(x)\n",
    "    \n",
    "proj_X2 = proj_X1[len(X):]\n",
    "# should result in 0 to ensure index is spanning the entire range.\n",
    "len(proj_X2)+len(X)-len(proj_X1)"
   ]
  },
  {
   "cell_type": "markdown",
   "metadata": {},
   "source": [
    "Concatenating the regression line for the entire span 2010 to 2040. This will provide the projection through 2040 but will need to be converted back from the index to get the actual employment value. Additionally the MAPE should be calculated for the historical period. Compare the MAPE to the exponential growth method to be done next and determine the most appropriate method."
   ]
  },
  {
   "cell_type": "code",
   "execution_count": 174,
   "metadata": {},
   "outputs": [
    {
     "data": {
      "text/plain": [
       "<matplotlib.axes._subplots.AxesSubplot at 0x1e1b1352cc0>"
      ]
     },
     "execution_count": 174,
     "metadata": {},
     "output_type": "execute_result"
    },
    {
     "data": {
      "image/png": "[encoded data removed]",
      "text/plain": [
       "<Figure size 432x288 with 1 Axes>"
      ]
     },
     "metadata": {
      "needs_background": "light"
     },
     "output_type": "display_data"
    }
   ],
   "source": [
    "projections = model.predict(proj_X2)\n",
    "projection = pd.DataFrame(projections)\n",
    "prediction = pd.DataFrame(predictions)\n",
    "regression = pd.concat([prediction, projection], axis=0)\n",
    "regression.set_index([projdates], inplace=True)\n",
    "regression.plot()\n",
    "mfg_emp2['base index'].plot()"
   ]
  },
  {
   "cell_type": "markdown",
   "metadata": {},
   "source": [
    "User defined function is create to calculate the MAPE. Plug in the 'predictions' array and the 'y' array created within the multiple steps above."
   ]
  },
  {
   "cell_type": "code",
   "execution_count": 166,
   "metadata": {},
   "outputs": [],
   "source": [
    "def mean_absolute_percentage_error(y_true, y_pred): \n",
    "    y_true, y_pred = np.array(y_true), np.array(y_pred)\n",
    "    return np.mean(np.abs((y_true - y_pred) / y_true)) * 100"
   ]
  },
  {
   "cell_type": "code",
   "execution_count": 173,
   "metadata": {},
   "outputs": [
    {
     "data": {
      "text/plain": [
       "40.676886441823584"
      ]
     },
     "execution_count": 173,
     "metadata": {},
     "output_type": "execute_result"
    }
   ],
   "source": [
    "mfg_lm_mape = mean_absolute_percentage_error(y, predictions)\n",
    "mfg_lm_mape"
   ]
  },
  {
   "cell_type": "markdown",
   "metadata": {},
   "source": [
    "Notes:\n",
    "\n",
    "Something is wrong with the regression. Even the historical period is out of wack as can be seen on the graph."
   ]
  }
 ],
 "metadata": {
  "kernelspec": {
   "display_name": "Python 3",
   "language": "python",
   "name": "python3"
  },
  "language_info": {
   "codemirror_mode": {
    "name": "ipython",
    "version": 3
   },
   "file_extension": ".py",
   "mimetype": "text/x-python",
   "name": "python",
   "nbconvert_exporter": "python",
   "pygments_lexer": "ipython3",
   "version": "3.7.3"
  }
 },
 "nbformat": 4,
 "nbformat_minor": 2
}
