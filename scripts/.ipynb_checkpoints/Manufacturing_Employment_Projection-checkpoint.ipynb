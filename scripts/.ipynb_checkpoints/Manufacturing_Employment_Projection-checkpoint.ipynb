{
 "cells": [
  {
   "cell_type": "code",
   "execution_count": 80,
   "metadata": {
    "scrolled": true
   },
   "outputs": [],
   "source": [
    "import pandas as pd\n",
    "import statsmodels.api as sm\n",
    "import numpy as np\n",
    "import os\n",
    "import statsmodels.api as sm\n",
    "import matplotlib.pyplot as plt\n",
    "from sklearn.model_selection import train_test_split\n",
    "from sklearn.linear_model import LinearRegression\n",
    "from sklearn.metrics import mean_squared_error\n",
    "\n",
    "os.chdir('../data')"
   ]
  },
  {
   "cell_type": "markdown",
   "metadata": {},
   "source": [
    "Below is the intial imporation and processing of data enable for utilization further down. Much of the data starts in 2008 or 2009 which brings in the signifigant volatility of the data in that period. For the purposes of any analysis, these years will be dropped and 2010 forward will be utilized. This we a subjective judgement decision. All data imported below is from the manufacturing (NAICS 31-33) industry and most is provided by the Bureau of Labor Statistics and two sets of data are from the Bureau of Economic Analysis. The links below are where these data can be found. The initial block below prints out a data key for ease of use.\n",
    "\n",
    "BLS:\n",
    "https://www.bls.gov/iag/tgs/iag31-33.htm\n",
    "\n",
    "BEA:\n",
    "https://apps.bea.gov/itable/index.cfm"
   ]
  },
  {
   "cell_type": "code",
   "execution_count": 2,
   "metadata": {},
   "outputs": [
    {
     "name": "stdout",
     "output_type": "stream",
     "text": [
      "mfg_emp   = nonsupervisory employement levels in manufacturing\n",
      "mfg_opens = job openings in manufacturing\n",
      "mfg_seps  = job seperations in manufacturing\n",
      "mfg_labor_adj = difference in openings and seperations for net labor demand.\n",
      "mfg_wages = Average wages for labor\n",
      "mfg_hours = Average weekly hours for labor\n",
      "mfg_labor_cost = avg weekly cost of labor per person\n",
      "ppi = Producer Price Index for manufacturing\n",
      "prod = Hourly output for manufactring\n",
      "mfg_go = Gross Output for manufacturing and the pct of total output\n",
      "mfg_va = Value added for manufacturing and pct total of total value added\n",
      "\n"
     ]
    }
   ],
   "source": [
    "keyfile = open('data-key.txt', 'r')\n",
    "datakey = keyfile.read()\n",
    "keyfile.close\n",
    "print(datakey)"
   ]
  },
  {
   "cell_type": "code",
   "execution_count": 3,
   "metadata": {},
   "outputs": [
    {
     "name": "stdout",
     "output_type": "stream",
     "text": [
      "            Employment Level\n",
      "2018-12-31       8965.666667\n",
      "2019-03-31       8998.666667\n",
      "\n",
      "\n",
      "Employment levels for manufcaturing industry imported as \"mfg_emp\".\n",
      "Date range modified to start in 2010.\n",
      "Monthly frequency has been resampled to quarterly.\n"
     ]
    }
   ],
   "source": [
    "mfg_emp = pd.read_excel('mfg/employment_nonsup.xlsx', skiprows=12, usecols=['Value'])\n",
    "dateind1 = pd.date_range(start='01/01/2009', end='04/01/2019', freq='M')\n",
    "mfg_emp.set_index([dateind1], inplace=True)\n",
    "mfg_emp = mfg_emp['01/01/2010':][:]\n",
    "mfg_emp.columns = ['Employment Level']\n",
    "mfg_emp = mfg_emp.resample('Q').mean()\n",
    "print(mfg_emp.tail(2))\n",
    "print('\\n')\n",
    "print('Employment levels for manufcaturing industry imported as \"mfg_emp\".\\nDate range modified to start in 2010.')\n",
    "print('Monthly frequency has been resampled to quarterly.')"
   ]
  },
  {
   "cell_type": "code",
   "execution_count": 4,
   "metadata": {
    "scrolled": true
   },
   "outputs": [
    {
     "name": "stdout",
     "output_type": "stream",
     "text": [
      "              Openings  Seperations  Net Demand\n",
      "2018-12-31  478.666667   319.333333  159.333333\n",
      "2019-03-31  467.500000   320.000000  147.500000\n",
      "\n",
      "\n",
      "Job openings, seperations, and net demand for manufacturing imported as \"mfg_labor_adj\".\n",
      "Date range modified to start in 2010.\n",
      "Monthly frequency has been resampled to quarterly.\n"
     ]
    }
   ],
   "source": [
    "mfg_opens = pd.read_excel('mfg/job_openings.xlsx', skiprows=11, usecols=['Value'])\n",
    "mfg_seps = pd.read_excel('mfg/seperations.xlsx', skiprows=11, usecols=['Value'])\n",
    "dateind2 = pd.date_range(start='01/01/2009', end='03/01/2019', freq='M')\n",
    "mfg_opens.set_index([dateind2], inplace=True)\n",
    "mfg_seps.set_index([dateind2], inplace=True)\n",
    "mfg_change_demand = mfg_opens-mfg_seps\n",
    "mfg_labor_adj = pd.concat([mfg_opens, mfg_seps, mfg_change_demand], axis=1)\n",
    "mfg_labor_adj = mfg_labor_adj['01/01/2010':][:]\n",
    "mfg_labor_adj.columns = ['Openings', 'Seperations', 'Net Demand']\n",
    "mfg_labor_adj = mfg_labor_adj.resample('Q').mean()\n",
    "print(mfg_labor_adj.tail(2))\n",
    "print('\\n')\n",
    "print('Job openings, seperations, and net demand for manufacturing imported as \"mfg_labor_adj\".')\n",
    "print('Date range modified to start in 2010.')\n",
    "print('Monthly frequency has been resampled to quarterly.')"
   ]
  },
  {
   "cell_type": "code",
   "execution_count": 5,
   "metadata": {},
   "outputs": [
    {
     "name": "stdout",
     "output_type": "stream",
     "text": [
      "            avg hourly wage  avg weekly hours  total weekly cost\n",
      "2018-12-31        21.773333         42.033333            915.203\n",
      "2019-03-31        21.896667         41.800000            915.276\n",
      "\n",
      "\n",
      "Avg Wages, hours, and weekly cost of labor for manufacturing imported as \"mfg_labor_cost\".\n",
      "Date range modified to start in 2010.\n",
      "Monthly frequency has been resampled to quarterly.\n"
     ]
    }
   ],
   "source": [
    "mfg_wages = pd.read_excel('mfg/avg_hrly_wages.xlsx', skiprows=12, usecols=['Value'])\n",
    "mfg_wages.set_index([dateind1], inplace=True)\n",
    "mfg_hours = pd.read_excel('mfg/avg_weekly_hrs.xlsx', skiprows=12, usecols=['Value'])\n",
    "mfg_hours.set_index([dateind1], inplace=True)\n",
    "mfg_labor_cost = mfg_wages * mfg_hours\n",
    "mfg_labor_cost = pd.concat([mfg_wages, mfg_hours, mfg_labor_cost], axis=1)\n",
    "mfg_labor_cost.columns = ['avg hourly wage', 'avg weekly hours', 'total weekly cost']\n",
    "mfg_labor_cost = mfg_labor_cost.resample('Q').mean()\n",
    "mfg_labor_cost = mfg_labor_cost['01/01/2010':][:]\n",
    "print(mfg_labor_cost.tail(2))\n",
    "print('\\n')\n",
    "print('Avg Wages, hours, and weekly cost of labor for manufacturing imported as \"mfg_labor_cost\".')\n",
    "print('Date range modified to start in 2010.')\n",
    "print('Monthly frequency has been resampled to quarterly.')"
   ]
  },
  {
   "cell_type": "code",
   "execution_count": 6,
   "metadata": {},
   "outputs": [
    {
     "name": "stdout",
     "output_type": "stream",
     "text": [
      "                   PPI\n",
      "2018-12-31  198.000000\n",
      "2019-03-31  195.866667\n",
      "\n",
      "\n",
      "Producer Price Index for manufacturing imported as \"ppi\".\n",
      "Date range modified to start in 2010.\n",
      "Monthly frequency has been resampled to quarterly.\n",
      "Index base year is 2012.\n"
     ]
    }
   ],
   "source": [
    "ppi = pd.read_excel('mfg/PPI.xlsx', skiprows=10, usecols=['Value'])\n",
    "ppi.columns= ['PPI']\n",
    "ppi.set_index([dateind1], inplace=True)\n",
    "ppi = ppi.resample('Q').mean()\n",
    "ppi = ppi['01/01/2010':][:]\n",
    "print(ppi.tail(2))\n",
    "print('\\n')\n",
    "print('Producer Price Index for manufacturing imported as \"ppi\".')\n",
    "print('Date range modified to start in 2010.')\n",
    "print('Monthly frequency has been resampled to quarterly.')\n",
    "print('Index base year is 2012.')"
   ]
  },
  {
   "cell_type": "code",
   "execution_count": 7,
   "metadata": {},
   "outputs": [
    {
     "name": "stdout",
     "output_type": "stream",
     "text": [
      "            output per hour\n",
      "2018-09-30          101.305\n",
      "2018-12-31          101.803\n",
      "\n",
      "\n",
      "Productivity measure of output per hour imported as \"prod\".\n",
      "Date range modified to start in 2010.\n",
      "Data was already at quarterly frequency.\n",
      "IMPORTANT: This data is an index with a base year of 2012.\n"
     ]
    }
   ],
   "source": [
    "prod = pd.read_excel('mfg/laborprod_outputperhr.xlsx', skiprows=10, usecols=['Value'])\n",
    "prod.columns = ['output per hour']\n",
    "dateind3 = pd.date_range(start='01/01/2008', end='01/01/2019', freq='Q')\n",
    "prod.set_index([dateind3], inplace=True)\n",
    "prod = prod['01/01/2010':][:]\n",
    "print(prod.tail(2))\n",
    "print('\\n')\n",
    "print('Productivity measure of output per hour imported as \"prod\".')\n",
    "print('Date range modified to start in 2010.')\n",
    "print('Data was already at quarterly frequency.')\n",
    "print('IMPORTANT: This data is an index with a base year of 2012.')"
   ]
  },
  {
   "cell_type": "code",
   "execution_count": 8,
   "metadata": {},
   "outputs": [
    {
     "name": "stdout",
     "output_type": "stream",
     "text": [
      "           Priv Industry Manufacturing mfg pct of total\n",
      "2018-09-30       32899.4        6343.4         0.192812\n",
      "2018-12-31       33207.2        6359.5          0.19151\n",
      "\n",
      "\n",
      "Measure of total output, manufacturing output, and the mfg percent of total as \"mfg_go\".\n",
      "Data was already at quarterly frequency.\n"
     ]
    }
   ],
   "source": [
    "mfg_go = pd.read_excel('mfg/GrossOut_ind.xls', skiprows=7, header=None).T\n",
    "mfg_go.columns = ['Priv Industry', 'Manufacturing']\n",
    "mfg_go = mfg_go.iloc[2:,:][:]\n",
    "dateind4 = pd.date_range(start='01/01/2010', end = '01/01/2019', freq='Q')\n",
    "mfg_go.set_index([dateind4], inplace=True)\n",
    "mfg_go['mfg pct of total'] = mfg_go['Manufacturing']/mfg_go['Priv Industry']\n",
    "print(mfg_go.tail(2))\n",
    "print('\\n')\n",
    "print('Measure of total output, manufacturing output, and the mfg percent of total as \"mfg_go\".')\n",
    "print('Data was already at quarterly frequency.')"
   ]
  },
  {
   "cell_type": "code",
   "execution_count": 9,
   "metadata": {},
   "outputs": [
    {
     "name": "stdout",
     "output_type": "stream",
     "text": [
      "           Priv Industry Manufacturing mfg pct of total\n",
      "2018-09-30       32899.4        6343.4         0.192812\n",
      "2018-12-31       33207.2        6359.5          0.19151\n",
      "\n",
      "\n",
      "Measure of value value added, manufacturing value added, and the mfg percent of total as \"mfg_va\".\n",
      "Data was already at quarterly frequency.\n",
      "Value added is:\n",
      "Difference between gross output and intermediate inputs and represents the value of labor\n",
      "and capital used in producing gross output. \n"
     ]
    }
   ],
   "source": [
    "mfg_va = pd.read_excel('mfg/ValueAdded_ind.xls', skiprows=7, header=None).T\n",
    "mfg_va.columns = ['Priv Industry', 'Manufacturing']\n",
    "mfg_va = mfg_va.iloc[2:,:][:]\n",
    "mfg_va.set_index([dateind4], inplace=True)\n",
    "mfg_va['mfg pct of total'] = mfg_va['Manufacturing']/mfg_va['Priv Industry']\n",
    "print(mfg_va.tail(2))\n",
    "print('\\n')\n",
    "print('Measure of value value added, manufacturing value added, and the mfg percent of total as \"mfg_va\".')\n",
    "print('Data was already at quarterly frequency.')\n",
    "print('Value added is:\\nDifference between gross output and intermediate inputs and represents the value of labor\\nand capital used in producing gross output. ')"
   ]
  },
  {
   "cell_type": "markdown",
   "metadata": {},
   "source": [
    "Forecasting future labor levels in manufacturing with current technologies and trends using linear regression. Creating an \"ordinals\" column to conver the date index into a managable array for ease in using as the independent variable in the regression."
   ]
  },
  {
   "cell_type": "code",
   "execution_count": 84,
   "metadata": {},
   "outputs": [
    {
     "data": {
      "text/plain": [
       "LinearRegression(copy_X=True, fit_intercept=True, n_jobs=None,\n",
       "         normalize=False)"
      ]
     },
     "execution_count": 84,
     "metadata": {},
     "output_type": "execute_result"
    }
   ],
   "source": [
    "mfg_emp_reg = mfg_emp.copy()\n",
    "mfg_emp_reg['ordinals'] = mfg_emp_reg.index\n",
    "mfg_emp_reg['ordinals'] = mfg_emp_reg['ordinals'].apply(lambda x: x.toordinal())\n",
    "\n",
    "X = np.array(mfg_emp_reg['ordinals']).reshape(-1,1)\n",
    "\n",
    "y = mfg_emp_reg['Employment Level']\n",
    "\n",
    "X_train, X_test, y_train, y_test = train_test_split(X, y, test_size=0.25, random_state=0)\n",
    "\n",
    "regressor = LinearRegression()\n",
    "regressor.fit(X_train, y_train)"
   ]
  },
  {
   "cell_type": "code",
   "execution_count": 78,
   "metadata": {},
   "outputs": [
    {
     "name": "stdout",
     "output_type": "stream",
     "text": [
      "Linear Regression R squared\": 0.9075\n"
     ]
    }
   ],
   "source": [
    "y_pred = regressor.predict(X_test)\n",
    "print('Linear Regression R squared\": %.4f' % regressor.score(X_test, y_test))"
   ]
  },
  {
   "cell_type": "code",
   "execution_count": 85,
   "metadata": {},
   "outputs": [
    {
     "name": "stdout",
     "output_type": "stream",
     "text": [
      "Linear Regression RMSE: 58.1478\n"
     ]
    }
   ],
   "source": [
    "lin_mse = mean_squared_error(y_pred, y_test)\n",
    "lin_rmse = np.sqrt(lin_mse)\n",
    "print('Linear Regression RMSE: %.4f' % lin_rmse)"
   ]
  },
  {
   "cell_type": "markdown",
   "metadata": {},
   "source": [
    "Need to create index for dates of projection to just model to predict. Dates must be ordinal to stay in line with test set. Last date of time series is 2019q1, pulling projection out to 2035q4."
   ]
  },
  {
   "cell_type": "code",
   "execution_count": 136,
   "metadata": {},
   "outputs": [
    {
     "data": {
      "text/html": [
       "<div>\n",
       "<style scoped>\n",
       "    .dataframe tbody tr th:only-of-type {\n",
       "        vertical-align: middle;\n",
       "    }\n",
       "\n",
       "    .dataframe tbody tr th {\n",
       "        vertical-align: top;\n",
       "    }\n",
       "\n",
       "    .dataframe thead th {\n",
       "        text-align: right;\n",
       "    }\n",
       "</style>\n",
       "<table border=\"1\" class=\"dataframe\">\n",
       "  <thead>\n",
       "    <tr style=\"text-align: right;\">\n",
       "      <th></th>\n",
       "      <th>ordinals</th>\n",
       "    </tr>\n",
       "  </thead>\n",
       "  <tbody>\n",
       "    <tr>\n",
       "      <th>2019-06-30</th>\n",
       "      <td>737240</td>\n",
       "    </tr>\n",
       "    <tr>\n",
       "      <th>2019-09-30</th>\n",
       "      <td>737332</td>\n",
       "    </tr>\n",
       "    <tr>\n",
       "      <th>2019-12-31</th>\n",
       "      <td>737424</td>\n",
       "    </tr>\n",
       "    <tr>\n",
       "      <th>2020-03-31</th>\n",
       "      <td>737515</td>\n",
       "    </tr>\n",
       "    <tr>\n",
       "      <th>2020-06-30</th>\n",
       "      <td>737606</td>\n",
       "    </tr>\n",
       "  </tbody>\n",
       "</table>\n",
       "</div>"
      ],
      "text/plain": [
       "            ordinals\n",
       "2019-06-30    737240\n",
       "2019-09-30    737332\n",
       "2019-12-31    737424\n",
       "2020-03-31    737515\n",
       "2020-06-30    737606"
      ]
     },
     "execution_count": 136,
     "metadata": {},
     "output_type": "execute_result"
    }
   ],
   "source": [
    "mfg_emp_reg.tail()\n",
    "date_emp_proj = pd.date_range(start='04/01/2019', end='01/01/2036', freq='Q')\n",
    "date_emp_proj_ser = pd.Series(date_emp_proj)\n",
    "date_emp_proj_ser = date_emp_proj_ser.apply(lambda x: x.toordinal())\n",
    "mfg_emp_proj = pd.DataFrame(date_emp_proj_ser).set_index([date_emp_proj])\n",
    "mfg_emp_proj.columns = ['ordinals']\n",
    "mfg_emp_proj.head()"
   ]
  },
  {
   "cell_type": "code",
   "execution_count": 137,
   "metadata": {},
   "outputs": [
    {
     "data": {
      "text/plain": [
       "<matplotlib.axes._subplots.AxesSubplot at 0x1bc44e6ed68>"
      ]
     },
     "execution_count": 137,
     "metadata": {},
     "output_type": "execute_result"
    },
    {
     "data": {
      "image/png": "[encoded data removed]",
      "text/plain": [
       "<Figure size 432x288 with 1 Axes>"
      ]
     },
     "metadata": {
      "needs_background": "light"
     },
     "output_type": "display_data"
    },
    {
     "data": {
      "image/png": "[encoded data removed]",
      "text/plain": [
       "<Figure size 432x288 with 1 Axes>"
      ]
     },
     "metadata": {
      "needs_background": "light"
     },
     "output_type": "display_data"
    }
   ],
   "source": [
    "emp_projections = regressor.predict(np.array(mfg_emp_proj['ordinals']).reshape(-1,1))\n",
    "mfg_emp_proj['Employment Level'] = emp_projections\n",
    "mfg_emp_proj.plot(y='Employment Level')\n",
    "mfg_emp.plot(y='Employment Level')"
   ]
  },
  {
   "cell_type": "code",
   "execution_count": null,
   "metadata": {},
   "outputs": [],
   "source": []
  }
 ],
 "metadata": {
  "kernelspec": {
   "display_name": "Python 3",
   "language": "python",
   "name": "python3"
  },
  "language_info": {
   "codemirror_mode": {
    "name": "ipython",
    "version": 3
   },
   "file_extension": ".py",
   "mimetype": "text/x-python",
   "name": "python",
   "nbconvert_exporter": "python",
   "pygments_lexer": "ipython3",
   "version": "3.7.3"
  }
 },
 "nbformat": 4,
 "nbformat_minor": 2
}
