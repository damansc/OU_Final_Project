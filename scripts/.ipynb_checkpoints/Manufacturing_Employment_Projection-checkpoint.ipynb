{
 "cells": [
  {
   "cell_type": "markdown",
   "metadata": {},
   "source": [
    "# Appendix"
   ]
  },
  {
   "cell_type": "code",
   "execution_count": 1,
   "metadata": {
    "scrolled": true
   },
   "outputs": [],
   "source": [
    "import pandas as pd\n",
    "import statsmodels.api as sm\n",
    "import numpy as np\n",
    "import os\n",
    "import statsmodels.api as sm\n",
    "import matplotlib.pyplot as plt\n",
    "from sklearn.model_selection import train_test_split\n",
    "from sklearn.linear_model import LinearRegression\n",
    "from sklearn.metrics import mean_squared_error\n",
    "\n",
    "os.chdir('../data')"
   ]
  },
  {
   "cell_type": "markdown",
   "metadata": {},
   "source": [
    "Below is the intial imporation and processing of data enable for utilization further down. Much of the data starts in 2008 or 2009 which brings in the signifigant volatility of the data in that period. For the purposes of any analysis, these years will be dropped and 2010 forward will be utilized. This we a subjective judgement decision. All data imported below is from the manufacturing (NAICS 31-33) industry and most is provided by the Bureau of Labor Statistics and two sets of data are from the Bureau of Economic Analysis. The links below are where these data can be found. The initial block below prints out a data key for ease of use.\n",
    "\n",
    "BLS:\n",
    "https://www.bls.gov/iag/tgs/iag31-33.htm\n",
    "\n",
    "BEA:\n",
    "https://apps.bea.gov/itable/index.cfm"
   ]
  },
  {
   "cell_type": "code",
   "execution_count": 2,
   "metadata": {},
   "outputs": [
    {
     "name": "stdout",
     "output_type": "stream",
     "text": [
      "mfg_emp   = nonsupervisory employement levels in manufacturing\n",
      "mfg_opens = job openings in manufacturing\n",
      "mfg_seps  = job seperations in manufacturing\n",
      "mfg_labor_adj = difference in openings and seperations for net labor demand.\n",
      "mfg_wages = Average wages for labor\n",
      "mfg_hours = Average weekly hours for labor\n",
      "mfg_labor_cost = avg weekly cost of labor per person\n",
      "ppi = Producer Price Index for manufacturing\n",
      "prod = Hourly output for manufactring\n",
      "mfg_go = Gross Output for manufacturing and the pct of total output\n",
      "mfg_va = Value added for manufacturing and pct total of total value added\n",
      "\n"
     ]
    }
   ],
   "source": [
    "keyfile = open('data-key.txt', 'r')\n",
    "datakey = keyfile.read()\n",
    "keyfile.close\n",
    "print(datakey)"
   ]
  },
  {
   "cell_type": "code",
   "execution_count": 3,
   "metadata": {},
   "outputs": [
    {
     "name": "stdout",
     "output_type": "stream",
     "text": [
      "            Employment Level\n",
      "2018-12-31       8965.666667\n",
      "2019-03-31       8998.666667\n",
      "\n",
      "\n",
      "Employment levels for manufcaturing industry imported as \"mfg_emp\".\n",
      "Date range modified to start in 2010.\n",
      "Monthly frequency has been resampled to quarterly.\n"
     ]
    }
   ],
   "source": [
    "mfg_emp = pd.read_excel('mfg/employment_nonsup.xlsx', skiprows=12, usecols=['Value'])\n",
    "dateind1 = pd.date_range(start='01/01/2009', end='04/01/2019', freq='M')\n",
    "mfg_emp.set_index([dateind1], inplace=True)\n",
    "mfg_emp = mfg_emp['01/01/2010':][:]\n",
    "mfg_emp.columns = ['Employment Level']\n",
    "mfg_emp = mfg_emp.resample('Q').mean()\n",
    "print(mfg_emp.tail(2))\n",
    "print('\\n')\n",
    "print('Employment levels for manufcaturing industry imported as \"mfg_emp\".\\nDate range modified to start in 2010.')\n",
    "print('Monthly frequency has been resampled to quarterly.')"
   ]
  },
  {
   "cell_type": "code",
   "execution_count": 4,
   "metadata": {
    "scrolled": true
   },
   "outputs": [
    {
     "name": "stdout",
     "output_type": "stream",
     "text": [
      "              Openings  Seperations  Net Demand\n",
      "2018-12-31  478.666667   319.333333  159.333333\n",
      "2019-03-31  467.500000   320.000000  147.500000\n",
      "\n",
      "\n",
      "Job openings, seperations, and net demand for manufacturing imported as \"mfg_labor_adj\".\n",
      "Date range modified to start in 2010.\n",
      "Monthly frequency has been resampled to quarterly.\n"
     ]
    }
   ],
   "source": [
    "mfg_opens = pd.read_excel('mfg/job_openings.xlsx', skiprows=11, usecols=['Value'])\n",
    "mfg_seps = pd.read_excel('mfg/seperations.xlsx', skiprows=11, usecols=['Value'])\n",
    "dateind2 = pd.date_range(start='01/01/2009', end='03/01/2019', freq='M')\n",
    "mfg_opens.set_index([dateind2], inplace=True)\n",
    "mfg_seps.set_index([dateind2], inplace=True)\n",
    "mfg_change_demand = mfg_opens-mfg_seps\n",
    "mfg_labor_adj = pd.concat([mfg_opens, mfg_seps, mfg_change_demand], axis=1)\n",
    "mfg_labor_adj = mfg_labor_adj['01/01/2010':][:]\n",
    "mfg_labor_adj.columns = ['Openings', 'Seperations', 'Net Demand']\n",
    "mfg_labor_adj = mfg_labor_adj.resample('Q').mean()\n",
    "print(mfg_labor_adj.tail(2))\n",
    "print('\\n')\n",
    "print('Job openings, seperations, and net demand for manufacturing imported as \"mfg_labor_adj\".')\n",
    "print('Date range modified to start in 2010.')\n",
    "print('Monthly frequency has been resampled to quarterly.')"
   ]
  },
  {
   "cell_type": "code",
   "execution_count": 5,
   "metadata": {},
   "outputs": [
    {
     "name": "stdout",
     "output_type": "stream",
     "text": [
      "            avg hourly wage  avg weekly hours  total weekly cost\n",
      "2018-12-31        21.773333         42.033333            915.203\n",
      "2019-03-31        21.896667         41.800000            915.276\n",
      "\n",
      "\n",
      "Avg Wages, hours, and weekly cost of labor for manufacturing imported as \"mfg_labor_cost\".\n",
      "Date range modified to start in 2010.\n",
      "Monthly frequency has been resampled to quarterly.\n"
     ]
    }
   ],
   "source": [
    "mfg_wages = pd.read_excel('mfg/avg_hrly_wages.xlsx', skiprows=12, usecols=['Value'])\n",
    "mfg_wages.set_index([dateind1], inplace=True)\n",
    "mfg_hours = pd.read_excel('mfg/avg_weekly_hrs.xlsx', skiprows=12, usecols=['Value'])\n",
    "mfg_hours.set_index([dateind1], inplace=True)\n",
    "mfg_labor_cost = mfg_wages * mfg_hours\n",
    "mfg_labor_cost = pd.concat([mfg_wages, mfg_hours, mfg_labor_cost], axis=1)\n",
    "mfg_labor_cost.columns = ['avg hourly wage', 'avg weekly hours', 'total weekly cost']\n",
    "mfg_labor_cost = mfg_labor_cost.resample('Q').mean()\n",
    "mfg_labor_cost = mfg_labor_cost['01/01/2010':][:]\n",
    "print(mfg_labor_cost.tail(2))\n",
    "print('\\n')\n",
    "print('Avg Wages, hours, and weekly cost of labor for manufacturing imported as \"mfg_labor_cost\".')\n",
    "print('Date range modified to start in 2010.')\n",
    "print('Monthly frequency has been resampled to quarterly.')"
   ]
  },
  {
   "cell_type": "code",
   "execution_count": 90,
   "metadata": {},
   "outputs": [
    {
     "name": "stdout",
     "output_type": "stream",
     "text": [
      "            National Employment  Ordinals\n",
      "2018-12-31        150058.333333    737059\n",
      "2019-03-31        150674.333333    737149\n"
     ]
    }
   ],
   "source": [
    "nat_emp = pd.read_excel('mfg/national_emp.xlsx', skiprows=12, usecols=['Value'])\n",
    "nat_emp.columns = ['National Employment']\n",
    "nat_emp.set_index([pd.date_range(start='01/01/2010', end='04/01/2019', freq='M')], inplace=True)\n",
    "nat_emp = nat_emp.resample('Q').mean()\n",
    "ordin = pd.Series(nat_emp.index).apply(lambda x: x.toordinal())\n",
    "nat_emp['Ordinals']= np.array(ordin)\n",
    "print(nat_emp.tail(2))"
   ]
  },
  {
   "cell_type": "markdown",
   "metadata": {},
   "source": [
    "Forecasting future labor levels in manufacturing with current technologies and trends using linear regression. Creating an \"ordinals\" column to conver the date index into a managable array for ease in using as the independent variable in the regression."
   ]
  },
  {
   "cell_type": "code",
   "execution_count": 11,
   "metadata": {},
   "outputs": [
    {
     "data": {
      "text/plain": [
       "LinearRegression(copy_X=True, fit_intercept=True, n_jobs=None,\n",
       "         normalize=False)"
      ]
     },
     "execution_count": 11,
     "metadata": {},
     "output_type": "execute_result"
    }
   ],
   "source": [
    "mfg_emp_reg = mfg_emp.copy()\n",
    "mfg_emp_reg['ordinals'] = mfg_emp_reg.index\n",
    "mfg_emp_reg['ordinals'] = mfg_emp_reg['ordinals'].apply(lambda x: x.toordinal())\n",
    "\n",
    "X = np.array(mfg_emp_reg['ordinals']).reshape(-1,1)\n",
    "\n",
    "y = mfg_emp_reg['Employment Level']\n",
    "\n",
    "X_train, X_test, y_train, y_test = train_test_split(X, y, test_size=0.25, random_state=0)\n",
    "\n",
    "regressor = LinearRegression()\n",
    "regressor.fit(X_train, y_train)"
   ]
  },
  {
   "cell_type": "code",
   "execution_count": 12,
   "metadata": {},
   "outputs": [
    {
     "name": "stdout",
     "output_type": "stream",
     "text": [
      "Linear Regression R squared\": 0.9075\n"
     ]
    }
   ],
   "source": [
    "y_pred = regressor.predict(X_test)\n",
    "print('Linear Regression R squared\": %.4f' % regressor.score(X_test, y_test))"
   ]
  },
  {
   "cell_type": "code",
   "execution_count": 13,
   "metadata": {},
   "outputs": [
    {
     "name": "stdout",
     "output_type": "stream",
     "text": [
      "Linear Regression RMSE: 58.1478\n"
     ]
    }
   ],
   "source": [
    "lin_mse = mean_squared_error(y_pred, y_test)\n",
    "lin_rmse = np.sqrt(lin_mse)\n",
    "print('Linear Regression RMSE: %.4f' % lin_rmse)"
   ]
  },
  {
   "cell_type": "markdown",
   "metadata": {},
   "source": [
    "Need to create index for dates of projection to just model to predict. Dates must be ordinal to stay in line with test set. Last date of time series is 2019q1, pulling projection out to 2035q4."
   ]
  },
  {
   "cell_type": "code",
   "execution_count": 14,
   "metadata": {},
   "outputs": [
    {
     "name": "stdout",
     "output_type": "stream",
     "text": [
      "mfg_emp_proj is a dataframe only holding the dates and ordinals for 2019q2 to 2035q4 projection span.\n"
     ]
    }
   ],
   "source": [
    "mfg_emp_reg.tail()\n",
    "date_emp_proj = pd.date_range(start='04/01/2019', end='01/01/2036', freq='Q')\n",
    "date_emp_proj_ser = pd.Series(date_emp_proj)\n",
    "date_emp_proj_ser = date_emp_proj_ser.apply(lambda x: x.toordinal())\n",
    "mfg_emp_proj = pd.DataFrame(date_emp_proj_ser).set_index([date_emp_proj])\n",
    "mfg_emp_proj.columns = ['ordinals']\n",
    "print('mfg_emp_proj is a dataframe only holding the dates and ordinals for 2019q2 to 2035q4 projection span.')"
   ]
  },
  {
   "cell_type": "code",
   "execution_count": 15,
   "metadata": {},
   "outputs": [
    {
     "data": {
      "text/plain": [
       "<matplotlib.axes._subplots.AxesSubplot at 0x22372735cf8>"
      ]
     },
     "execution_count": 15,
     "metadata": {},
     "output_type": "execute_result"
    },
    {
     "data": {
      "image/png": "[encoded data removed]",
      "text/plain": [
       "<Figure size 432x288 with 1 Axes>"
      ]
     },
     "metadata": {
      "needs_background": "light"
     },
     "output_type": "display_data"
    },
    {
     "data": {
      "image/png": "[encoded data removed]",
      "text/plain": [
       "<Figure size 432x288 with 1 Axes>"
      ]
     },
     "metadata": {
      "needs_background": "light"
     },
     "output_type": "display_data"
    }
   ],
   "source": [
    "emp_projections = regressor.predict(np.array(mfg_emp_proj['ordinals']).reshape(-1,1))\n",
    "mfg_emp_proj['Employment Level'] = emp_projections\n",
    "mfg_emp_proj.plot(y='Employment Level')\n",
    "mfg_emp.plot(y='Employment Level')"
   ]
  },
  {
   "cell_type": "code",
   "execution_count": 16,
   "metadata": {},
   "outputs": [
    {
     "name": "stdout",
     "output_type": "stream",
     "text": [
      "tot_projection_span holds the regression projection for the entire span of 2010 to 2035.\n"
     ]
    },
    {
     "data": {
      "image/png": "[encoded data removed]",
      "text/plain": [
       "<Figure size 432x288 with 1 Axes>"
      ]
     },
     "metadata": {
      "needs_background": "light"
     },
     "output_type": "display_data"
    }
   ],
   "source": [
    "proj_x = np.array(mfg_emp_proj['ordinals']).reshape(-1,1)\n",
    "X_tot = np.concatenate((X, proj_x), axis=0)\n",
    "emp_proj_tot = regressor.predict(X_tot)\n",
    "\n",
    "tot_projection_span = pd.DataFrame(X_tot)\n",
    "tot_projection_span['Projected Employment Level'] = emp_proj_tot\n",
    "tot_projection_span.columns = ['Ordinals', 'Projected Employment Level']\n",
    "\n",
    "print('tot_projection_span holds the regression projection for the entire span of 2010 to 2035.')\n",
    "\n",
    "fig, ax = plt.subplots()\n",
    "tot_projection_span.plot(x='Ordinals', y='Projected Employment Level', ax=ax)\n",
    "mfg_emp_reg.plot(y='Employment Level', ax=ax, ls='--')\n",
    "plt.savefig('actual_w_regline.png')\n",
    "plt.show()\n"
   ]
  },
  {
   "cell_type": "code",
   "execution_count": 17,
   "metadata": {},
   "outputs": [
    {
     "name": "stdout",
     "output_type": "stream",
     "text": [
      "     Ordinals  Projected Employment Level\n",
      "103    743268                 10560.42556\n"
     ]
    }
   ],
   "source": [
    "print(tot_projection_span.tail(1))"
   ]
  },
  {
   "cell_type": "code",
   "execution_count": 18,
   "metadata": {},
   "outputs": [
    {
     "data": {
      "text/plain": [
       "<matplotlib.axes._subplots.AxesSubplot at 0x223728066d8>"
      ]
     },
     "execution_count": 18,
     "metadata": {},
     "output_type": "execute_result"
    },
    {
     "data": {
      "image/png": "[encoded data removed]",
      "text/plain": [
       "<Figure size 432x288 with 1 Axes>"
      ]
     },
     "metadata": {
      "needs_background": "light"
     },
     "output_type": "display_data"
    }
   ],
   "source": [
    "displacement_tot = (tot_projection_span['Projected Employment Level'][103]*.6)\n",
    "displacement_increment = displacement_tot/len(mfg_emp_proj)\n",
    "cumulative_disp = np.cumsum(np.repeat(displacement_increment, len(mfg_emp_proj)))\n",
    "mfg_emp_proj['Projection W Disp'] = mfg_emp_proj['Employment Level']-cumulative_disp\n",
    "\n",
    "fig, ax = plt.subplots()\n",
    "mfg_emp_proj.plot(y='Employment Level', ax=ax)\n",
    "mfg_emp_proj.plot(y='Projection W Disp', ax=ax)"
   ]
  },
  {
   "cell_type": "code",
   "execution_count": 19,
   "metadata": {},
   "outputs": [
    {
     "data": {
      "text/html": [
       "<div>\n",
       "<style scoped>\n",
       "    .dataframe tbody tr th:only-of-type {\n",
       "        vertical-align: middle;\n",
       "    }\n",
       "\n",
       "    .dataframe tbody tr th {\n",
       "        vertical-align: top;\n",
       "    }\n",
       "\n",
       "    .dataframe thead th {\n",
       "        text-align: right;\n",
       "    }\n",
       "</style>\n",
       "<table border=\"1\" class=\"dataframe\">\n",
       "  <thead>\n",
       "    <tr style=\"text-align: right;\">\n",
       "      <th></th>\n",
       "      <th>Ordinals</th>\n",
       "      <th>Projected Employment Level</th>\n",
       "    </tr>\n",
       "  </thead>\n",
       "  <tbody>\n",
       "    <tr>\n",
       "      <th>2010-03-31</th>\n",
       "      <td>733862</td>\n",
       "      <td>8100.156674</td>\n",
       "    </tr>\n",
       "    <tr>\n",
       "      <th>2010-06-30</th>\n",
       "      <td>733953</td>\n",
       "      <td>8123.958978</td>\n",
       "    </tr>\n",
       "    <tr>\n",
       "      <th>2010-09-30</th>\n",
       "      <td>734045</td>\n",
       "      <td>8148.022845</td>\n",
       "    </tr>\n",
       "    <tr>\n",
       "      <th>2010-12-31</th>\n",
       "      <td>734137</td>\n",
       "      <td>8172.086713</td>\n",
       "    </tr>\n",
       "    <tr>\n",
       "      <th>2011-03-31</th>\n",
       "      <td>734227</td>\n",
       "      <td>8195.627453</td>\n",
       "    </tr>\n",
       "  </tbody>\n",
       "</table>\n",
       "</div>"
      ],
      "text/plain": [
       "            Ordinals  Projected Employment Level\n",
       "2010-03-31    733862                 8100.156674\n",
       "2010-06-30    733953                 8123.958978\n",
       "2010-09-30    734045                 8148.022845\n",
       "2010-12-31    734137                 8172.086713\n",
       "2011-03-31    734227                 8195.627453"
      ]
     },
     "execution_count": 19,
     "metadata": {},
     "output_type": "execute_result"
    }
   ],
   "source": [
    "tot_projection_span.set_index([pd.date_range(start='01/01/2010', end='01/01/2036', freq='Q')], inplace=True)\n",
    "tot_projection_span[:'04/01/2019'].head()"
   ]
  },
  {
   "cell_type": "code",
   "execution_count": 21,
   "metadata": {},
   "outputs": [],
   "source": [
    "t1 = tot_projection_span['Projected Employment Level']['01/01/2010':'04/01/2019']\n",
    "t2 = mfg_emp_proj['Projection W Disp']['04/01/2019':]\n",
    "disp_proj_hist = pd.Series(t1).append(t2)\n",
    "tot_projection_span['With Displacement'] = disp_proj_hist"
   ]
  },
  {
   "cell_type": "code",
   "execution_count": 22,
   "metadata": {},
   "outputs": [
    {
     "data": {
      "image/png": "[encoded data removed]",
      "text/plain": [
       "<Figure size 432x288 with 1 Axes>"
      ]
     },
     "metadata": {
      "needs_background": "light"
     },
     "output_type": "display_data"
    }
   ],
   "source": [
    "fig, ax = plt.subplots()\n",
    "tot_projection_span.plot(x='Ordinals', y='With Displacement', ax=ax)\n",
    "mfg_emp_reg.plot(x='ordinals', y='Employment Level', ax=ax, ls='--')\n",
    "\n",
    "plt.show()\n"
   ]
  },
  {
   "cell_type": "code",
   "execution_count": 23,
   "metadata": {},
   "outputs": [],
   "source": [
    "tot_projection_span.to_csv('tot_projection_span.csv', sep='\\t', encoding='utf-8')"
   ]
  },
  {
   "cell_type": "code",
   "execution_count": 24,
   "metadata": {},
   "outputs": [
    {
     "data": {
      "text/plain": [
       "LinearRegression(copy_X=True, fit_intercept=True, n_jobs=None,\n",
       "         normalize=False)"
      ]
     },
     "execution_count": 24,
     "metadata": {},
     "output_type": "execute_result"
    }
   ],
   "source": [
    "nat_emp_reg = nat_emp.copy()\n",
    "nat_emp_reg['ordinals'] = nat_emp_reg.index\n",
    "nat_emp_reg['ordinals'] = nat_emp_reg['ordinals'].apply(lambda x: x.toordinal())\n",
    "\n",
    "X = np.array(nat_emp_reg['ordinals']).reshape(-1,1)\n",
    "\n",
    "y = nat_emp_reg['National Employment']\n",
    "\n",
    "X_train, X_test, y_train, y_test = train_test_split(X, y, test_size=0.25, random_state=0)\n",
    "\n",
    "regressor = LinearRegression()\n",
    "regressor.fit(X_train, y_train)"
   ]
  },
  {
   "cell_type": "code",
   "execution_count": 25,
   "metadata": {},
   "outputs": [
    {
     "data": {
      "text/plain": [
       "<matplotlib.axes._subplots.AxesSubplot at 0x22372bd49b0>"
      ]
     },
     "execution_count": 25,
     "metadata": {},
     "output_type": "execute_result"
    },
    {
     "data": {
      "image/png": "[encoded data removed]",
      "text/plain": [
       "<Figure size 432x288 with 1 Axes>"
      ]
     },
     "metadata": {
      "needs_background": "light"
     },
     "output_type": "display_data"
    }
   ],
   "source": [
    "daterange=pd.date_range(start='01/01/2010', end='01/01/2036', freq='Q')\n",
    "totord = pd.Series(daterange).apply(lambda x: x.toordinal())\n",
    "\n",
    "tot_nat_pred = regressor.predict(np.array(totord).reshape(-1,1))\n",
    "nat_tot_projection = pd.DataFrame()\n",
    "nat_tot_projection['ordinals'] = np.array(totord)\n",
    "nat_tot_projection['reg proj'] = tot_nat_pred\n",
    "nat_tot_projection.set_index([daterange], inplace=True)\n",
    "\n",
    "fig, ax = plt.subplots()\n",
    "nat_tot_projection.plot(x='ordinals', y='reg proj', ax=ax)\n",
    "nat_emp_reg.plot(x='ordinals', y='National Employment', ax=ax, ls='--')"
   ]
  },
  {
   "cell_type": "markdown",
   "metadata": {},
   "source": [
    "From 1980 to 2007, total employment in the U.S. grew\n",
    "by 17.5%. About half (8.84%) of this growth is explained by the additional employment growth in new jobs. (2016). For the purposes of estimating new job creation, this historical share of the total growth will be held constant as an extraplotor for estimating what share of employment growth is due to new job creation."
   ]
  },
  {
   "cell_type": "code",
   "execution_count": 26,
   "metadata": {},
   "outputs": [
    {
     "data": {
      "text/plain": [
       "0.5051428571428572"
      ]
     },
     "execution_count": 26,
     "metadata": {},
     "output_type": "execute_result"
    }
   ],
   "source": [
    "hist_growth = .175\n",
    "new_job = .0884\n",
    "nj_pct_tot = new_job/hist_growth\n",
    "nj_pct_tot"
   ]
  },
  {
   "cell_type": "code",
   "execution_count": 27,
   "metadata": {},
   "outputs": [
    {
     "data": {
      "text/plain": [
       "<matplotlib.axes._subplots.AxesSubplot at 0x223728efcf8>"
      ]
     },
     "execution_count": 27,
     "metadata": {},
     "output_type": "execute_result"
    },
    {
     "data": {
      "image/png": "[encoded data removed]",
      "text/plain": [
       "<Figure size 432x288 with 1 Axes>"
      ]
     },
     "metadata": {
      "needs_background": "light"
     },
     "output_type": "display_data"
    }
   ],
   "source": [
    "test = nat_tot_projection['01/01/2019':][:]\n",
    "test['level change'] = test['reg proj'].diff()\n",
    "test['new jobs'] = test['level change'] * nj_pct_tot\n",
    "\n",
    "cum_new_jobs = np.cumsum(test['new jobs']['04/01/2019':])\n",
    "cum_tot_jobs = np.cumsum(test['level change']['04/01/2019':])\n",
    "\n",
    "fig, ax = plt.subplots()\n",
    "cum_new_jobs.plot(ax=ax, ls='--')\n",
    "cum_tot_jobs.plot(ax=ax)"
   ]
  },
  {
   "cell_type": "code",
   "execution_count": 89,
   "metadata": {},
   "outputs": [
    {
     "name": "stdout",
     "output_type": "stream",
     "text": [
      "20370.174549880692 6336.255335975006\n",
      "\n",
      "\n",
      "Cumulative new jobs at national level less manufacturing displacement in 2035:\n",
      "14033.919213905687\n",
      "The percentage of new job creation absorbed by mfg displacement: 0.3110555248537189\n"
     ]
    }
   ],
   "source": [
    "print(cum_new_jobs[-1], cumulative_disp[-1])\n",
    "print('\\n')\n",
    "print('Cumulative new jobs at national level less manufacturing displacement in 2035:\\n{}'.format(cum_new_jobs[-1]-cumulative_disp[-1]))\n",
    "print('The percentage of new job creation absorbed by mfg displacement: {}'.format(cumulative_disp[-1]/cum_new_jobs[-1]))"
   ]
  },
  {
   "cell_type": "markdown",
   "metadata": {},
   "source": [
    "The above forecasts new job creation at the national level, the level of displaced manufacturing jobs, and the level of new jobs left after absorbing manufacturing displcement. The next step is compute the income lost within manufacturing due to displacement."
   ]
  },
  {
   "cell_type": "code",
   "execution_count": 53,
   "metadata": {},
   "outputs": [
    {
     "data": {
      "text/html": [
       "<div>\n",
       "<style scoped>\n",
       "    .dataframe tbody tr th:only-of-type {\n",
       "        vertical-align: middle;\n",
       "    }\n",
       "\n",
       "    .dataframe tbody tr th {\n",
       "        vertical-align: top;\n",
       "    }\n",
       "\n",
       "    .dataframe thead th {\n",
       "        text-align: right;\n",
       "    }\n",
       "</style>\n",
       "<table border=\"1\" class=\"dataframe\">\n",
       "  <thead>\n",
       "    <tr style=\"text-align: right;\">\n",
       "      <th></th>\n",
       "      <th>avg hourly wage</th>\n",
       "      <th>avg weekly hours</th>\n",
       "      <th>total weekly cost</th>\n",
       "    </tr>\n",
       "  </thead>\n",
       "  <tbody>\n",
       "    <tr>\n",
       "      <th>2018-03-31</th>\n",
       "      <td>21.340000</td>\n",
       "      <td>42.100000</td>\n",
       "      <td>898.419000</td>\n",
       "    </tr>\n",
       "    <tr>\n",
       "      <th>2018-06-30</th>\n",
       "      <td>21.456667</td>\n",
       "      <td>42.166667</td>\n",
       "      <td>904.757333</td>\n",
       "    </tr>\n",
       "    <tr>\n",
       "      <th>2018-09-30</th>\n",
       "      <td>21.543333</td>\n",
       "      <td>42.166667</td>\n",
       "      <td>908.408000</td>\n",
       "    </tr>\n",
       "    <tr>\n",
       "      <th>2018-12-31</th>\n",
       "      <td>21.773333</td>\n",
       "      <td>42.033333</td>\n",
       "      <td>915.203000</td>\n",
       "    </tr>\n",
       "    <tr>\n",
       "      <th>2019-03-31</th>\n",
       "      <td>21.896667</td>\n",
       "      <td>41.800000</td>\n",
       "      <td>915.276000</td>\n",
       "    </tr>\n",
       "  </tbody>\n",
       "</table>\n",
       "</div>"
      ],
      "text/plain": [
       "            avg hourly wage  avg weekly hours  total weekly cost\n",
       "2018-03-31        21.340000         42.100000         898.419000\n",
       "2018-06-30        21.456667         42.166667         904.757333\n",
       "2018-09-30        21.543333         42.166667         908.408000\n",
       "2018-12-31        21.773333         42.033333         915.203000\n",
       "2019-03-31        21.896667         41.800000         915.276000"
      ]
     },
     "execution_count": 53,
     "metadata": {},
     "output_type": "execute_result"
    }
   ],
   "source": [
    "mfg_labor_cost.tail()"
   ]
  },
  {
   "cell_type": "code",
   "execution_count": 81,
   "metadata": {},
   "outputs": [
    {
     "data": {
      "text/plain": [
       "LinearRegression(copy_X=True, fit_intercept=True, n_jobs=None,\n",
       "         normalize=False)"
      ]
     },
     "execution_count": 81,
     "metadata": {},
     "output_type": "execute_result"
    }
   ],
   "source": [
    "mfg_labor_reg = mfg_labor_cost.copy()\n",
    "mfg_labor_reg['ordinals'] = mfg_labor_reg.index\n",
    "mfg_labor_reg['ordinals'] = mfg_labor_reg['ordinals'].apply(lambda x: x.toordinal())\n",
    "\n",
    "X = np.array(mfg_labor_reg['ordinals']).reshape(-1,1)\n",
    "\n",
    "y = mfg_labor_reg['avg hourly wage']\n",
    "\n",
    "X_train, X_test, y_train, y_test = train_test_split(X, y, test_size=0.25, random_state=0)\n",
    "\n",
    "regressor = LinearRegression()\n",
    "regressor.fit(X_train, y_train)"
   ]
  },
  {
   "cell_type": "code",
   "execution_count": 82,
   "metadata": {},
   "outputs": [
    {
     "name": "stdout",
     "output_type": "stream",
     "text": [
      "Linear Regression R squared\": 0.9275\n"
     ]
    }
   ],
   "source": [
    "y_pred = regressor.predict(X_test)\n",
    "print('Linear Regression R squared\": %.4f' % regressor.score(X_test, y_test))\n"
   ]
  },
  {
   "cell_type": "code",
   "execution_count": 86,
   "metadata": {},
   "outputs": [
    {
     "data": {
      "text/plain": [
       "array([[4630217.78022919],\n",
       "       [4652985.3182902 ],\n",
       "       [4676003.04907718],\n",
       "       [4699020.77986416],\n",
       "       [4721538.12519926],\n",
       "       [4744305.66326027],\n",
       "       [4767323.39404725],\n",
       "       [4790341.12483423],\n",
       "       [4813108.66289526],\n",
       "       [4835876.2009563 ],\n",
       "       [4858893.93174328],\n",
       "       [4881911.66253026],\n",
       "       [4904429.00786533],\n",
       "       [4927196.54592637],\n",
       "       [4950214.27671334],\n",
       "       [4973232.00750032],\n",
       "       [4995749.35283539],\n",
       "       [5018516.89089643],\n",
       "       [5041534.62168341],\n",
       "       [5064552.35247039],\n",
       "       [5087069.69780548],\n",
       "       [5109837.23586649],\n",
       "       [5132854.96665347],\n",
       "       [5155872.69744045],\n",
       "       [5178640.23550149],\n",
       "       [5201407.77356253],\n",
       "       [5224425.50434951],\n",
       "       [5247443.23513646],\n",
       "       [5269960.58047155],\n",
       "       [5292728.11853259],\n",
       "       [5315745.84931957],\n",
       "       [5338763.58010655],\n",
       "       [5361280.92544162],\n",
       "       [5384048.46350266],\n",
       "       [5407066.19428963],\n",
       "       [5430083.92507661],\n",
       "       [5452601.27041168],\n",
       "       [5475368.80847272],\n",
       "       [5498386.5392597 ],\n",
       "       [5521404.27004668],\n",
       "       [5544171.80810772],\n",
       "       [5566939.34616875],\n",
       "       [5589957.0769557 ],\n",
       "       [5612974.80774268],\n",
       "       [5635492.15307778],\n",
       "       [5658259.69113882],\n",
       "       [5681277.4219258 ],\n",
       "       [5704295.15271278],\n",
       "       [5726812.49804784],\n",
       "       [5749580.03610888],\n",
       "       [5772597.76689586],\n",
       "       [5795615.49768284],\n",
       "       [5818132.84301791],\n",
       "       [5840900.38107895],\n",
       "       [5863918.11186593],\n",
       "       [5886935.8426529 ],\n",
       "       [5909703.38071394],\n",
       "       [5932470.91877495],\n",
       "       [5955488.64956193],\n",
       "       [5978506.38034891],\n",
       "       [6001023.72568401],\n",
       "       [6023791.26374504],\n",
       "       [6046808.99453202],\n",
       "       [6069826.72531897],\n",
       "       [6092344.07065407],\n",
       "       [6115111.60871511],\n",
       "       [6138129.33950209],\n",
       "       [6161147.07028907],\n",
       "       [6183664.41562413],\n",
       "       [6206431.95368517],\n",
       "       [6229449.68447215],\n",
       "       [6252467.41525913],\n",
       "       [6275234.95332017],\n",
       "       [6298002.49138118],\n",
       "       [6321020.22216816],\n",
       "       [6344037.95295514],\n",
       "       [6366555.29829023],\n",
       "       [6389322.83635124],\n",
       "       [6412340.56713822],\n",
       "       [6435358.2979252 ],\n",
       "       [6457875.6432603 ],\n",
       "       [6480643.18132134],\n",
       "       [6503660.91210831],\n",
       "       [6526678.64289526],\n",
       "       [6549195.98823036],\n",
       "       [6571963.5262914 ],\n",
       "       [6594981.25707838],\n",
       "       [6617998.98786536],\n",
       "       [6640766.52592637],\n",
       "       [6663534.0639874 ],\n",
       "       [6686551.79477438],\n",
       "       [6709569.52556136],\n",
       "       [6732086.87089646],\n",
       "       [6754854.40895747],\n",
       "       [6777872.13974445],\n",
       "       [6800889.87053143],\n",
       "       [6823407.21586652],\n",
       "       [6846174.75392756],\n",
       "       [6869192.48471451],\n",
       "       [6892210.21550149],\n",
       "       [6914727.56083659],\n",
       "       [6937495.09889763],\n",
       "       [6960512.8296846 ],\n",
       "       [6983530.56047158]])"
      ]
     },
     "execution_count": 86,
     "metadata": {},
     "output_type": "execute_result"
    }
   ],
   "source": [
    "wage_pred = regressor.predict(np.array(totord).reshape(-1,1))\n",
    "wage_pred = pd.Series(wage_pred)\n",
    "wage_proj = pd.DataFrame()\n",
    "wage_proj['Wage Projection'] = wage_pred\n",
    "wage_per_lab_lost = pd.DataFrame()\n",
    "wage_per_lab_lost = wage_proj*40\n",
    "total_income_lost = np.array(wage_per_lab_lost * 6336)\n",
    "total_income_lost"
   ]
  }
 ],
 "metadata": {
  "kernelspec": {
   "display_name": "Python 3",
   "language": "python",
   "name": "python3"
  },
  "language_info": {
   "codemirror_mode": {
    "name": "ipython",
    "version": 3
   },
   "file_extension": ".py",
   "mimetype": "text/x-python",
   "name": "python",
   "nbconvert_exporter": "python",
   "pygments_lexer": "ipython3",
   "version": "3.7.3"
  }
 },
 "nbformat": 4,
 "nbformat_minor": 2
}
