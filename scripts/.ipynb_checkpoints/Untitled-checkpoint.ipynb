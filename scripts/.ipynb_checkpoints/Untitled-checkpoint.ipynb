{
 "cells": [
  {
   "cell_type": "code",
   "execution_count": 230,
   "metadata": {
    "scrolled": true
   },
   "outputs": [],
   "source": [
    "import pandas as pd\n",
    "import statsmodels.api as sm\n",
    "import numpy as np\n",
    "import os\n",
    "import statsmodels.api as sm\n",
    "\n",
    "os.chdir('../data')"
   ]
  },
  {
   "cell_type": "markdown",
   "metadata": {},
   "source": [
    "Below is the intial imporation and processing of data enable for utilization further down. Much of the data starts in 2008 or 2009 which brings in the signifigant volatility of the data in that period. For the purposes of any analysis, these years will be dropped and 2010 forward will be utilized. This we a subjective judgement decision. All data imported below is from the manufacturing (NAICS 31-33) industry and most is provided by the Bureau of Labor Statistics and two sets of data are from the Bureau of Economic Analysis. The links below are where these data can be found. The initial block below prints out a data key for ease of use.\n",
    "\n",
    "BLS:\n",
    "https://www.bls.gov/iag/tgs/iag31-33.htm\n",
    "\n",
    "BEA:\n",
    "https://apps.bea.gov/itable/index.cfm"
   ]
  },
  {
   "cell_type": "code",
   "execution_count": 207,
   "metadata": {},
   "outputs": [
    {
     "name": "stdout",
     "output_type": "stream",
     "text": [
      "mfg_emp   = nonsupervisory employement levels in manufacturing\n",
      "mfg_opens = job openings in manufacturing\n",
      "mfg_seps  = job seperations in manufacturing\n",
      "mfg_labor_adj = difference in openings and seperations for net labor demand.\n",
      "mfg_wages = Average wages for labor\n",
      "mfg_hours = Average weekly hours for labor\n",
      "mfg_labor_cost = avg weekly cost of labor per person\n",
      "ppi = Producer Price Index for manufacturing\n",
      "prod = Hourly output for manufactring\n",
      "mfg_go = Gross Output for manufacturing and the pct of total output\n",
      "mfg_va = Value added for manufacturing and pct total of total value added\n",
      "\n"
     ]
    }
   ],
   "source": [
    "keyfile = open('data-key.txt', 'r')\n",
    "datakey = keyfile.read()\n",
    "keyfile.close\n",
    "print(datakey)"
   ]
  },
  {
   "cell_type": "code",
   "execution_count": 70,
   "metadata": {},
   "outputs": [
    {
     "name": "stdout",
     "output_type": "stream",
     "text": [
      "            Employment Level\n",
      "2018-12-31       8965.666667\n",
      "2019-03-31       8998.666667\n",
      "\n",
      "\n",
      "Employment levels for manufcaturing industry imported as \"mfg_emp\".\n",
      "Date range modified to start in 2010.\n",
      "Monthly frequency has been resampled to quarterly.\n"
     ]
    }
   ],
   "source": [
    "mfg_emp = pd.read_excel('mfg/employment_nonsup.xlsx', skiprows=12, usecols=['Value'])\n",
    "dateind1 = pd.date_range(start='01/01/2009', end='04/01/2019', freq='M')\n",
    "mfg_emp.set_index([dateind1], inplace=True)\n",
    "mfg_emp = mfg_emp['01/01/2010':][:]\n",
    "mfg_emp.columns = ['Employment Level']\n",
    "mfg_emp = mfg_emp.resample('Q').mean()\n",
    "print(mfg_emp.tail(2))\n",
    "print('\\n')\n",
    "print('Employment levels for manufcaturing industry imported as \"mfg_emp\".\\nDate range modified to start in 2010.')\n",
    "print('Monthly frequency has been resampled to quarterly.')"
   ]
  },
  {
   "cell_type": "code",
   "execution_count": 71,
   "metadata": {
    "scrolled": true
   },
   "outputs": [
    {
     "name": "stdout",
     "output_type": "stream",
     "text": [
      "              Openings  Seperations  Net Demand\n",
      "2018-12-31  478.666667   319.333333  159.333333\n",
      "2019-03-31  467.500000   320.000000  147.500000\n",
      "\n",
      "\n",
      "Job openings, seperations, and net demand for manufacturing imported as \"mfg_labor_adj\".\n",
      "Date range modified to start in 2010.\n",
      "Monthly frequency has been resampled to quarterly.\n"
     ]
    }
   ],
   "source": [
    "mfg_opens = pd.read_excel('mfg/job_openings.xlsx', skiprows=11, usecols=['Value'])\n",
    "mfg_seps = pd.read_excel('mfg/seperations.xlsx', skiprows=11, usecols=['Value'])\n",
    "dateind2 = pd.date_range(start='01/01/2009', end='03/01/2019', freq='M')\n",
    "mfg_opens.set_index([dateind2], inplace=True)\n",
    "mfg_seps.set_index([dateind2], inplace=True)\n",
    "mfg_change_demand = mfg_opens-mfg_seps\n",
    "mfg_labor_adj = pd.concat([mfg_opens, mfg_seps, mfg_change_demand], axis=1)\n",
    "mfg_labor_adj = mfg_labor_adj['01/01/2010':][:]\n",
    "mfg_labor_adj.columns = ['Openings', 'Seperations', 'Net Demand']\n",
    "mfg_labor_adj = mfg_labor_adj.resample('Q').mean()\n",
    "print(mfg_labor_adj.tail(2))\n",
    "print('\\n')\n",
    "print('Job openings, seperations, and net demand for manufacturing imported as \"mfg_labor_adj\".')\n",
    "print('Date range modified to start in 2010.')\n",
    "print('Monthly frequency has been resampled to quarterly.')"
   ]
  },
  {
   "cell_type": "code",
   "execution_count": 127,
   "metadata": {},
   "outputs": [
    {
     "name": "stdout",
     "output_type": "stream",
     "text": [
      "            avg hourly wage  avg weekly hours  total weekly cost\n",
      "2018-12-31        21.773333         42.033333            915.203\n",
      "2019-03-31        21.896667         41.800000            915.276\n",
      "\n",
      "\n",
      "Avg Wages, hours, and weekly cost of labor for manufacturing imported as \"mfg_labor_cost\".\n",
      "Date range modified to start in 2010.\n",
      "Monthly frequency has been resampled to quarterly.\n"
     ]
    }
   ],
   "source": [
    "mfg_wages = pd.read_excel('mfg/avg_hrly_wages.xlsx', skiprows=12, usecols=['Value'])\n",
    "mfg_wages.set_index([dateind1], inplace=True)\n",
    "mfg_hours = pd.read_excel('mfg/avg_weekly_hrs.xlsx', skiprows=12, usecols=['Value'])\n",
    "mfg_hours.set_index([dateind1], inplace=True)\n",
    "mfg_labor_cost = mfg_wages * mfg_hours\n",
    "mfg_labor_cost = pd.concat([mfg_wages, mfg_hours, mfg_labor_cost], axis=1)\n",
    "mfg_labor_cost.columns = ['avg hourly wage', 'avg weekly hours', 'total weekly cost']\n",
    "mfg_labor_cost = mfg_labor_cost.resample('Q').mean()\n",
    "mfg_labor_cost = mfg_labor_cost['01/01/2010':][:]\n",
    "print(mfg_labor_cost.tail(2))\n",
    "print('\\n')\n",
    "print('Avg Wages, hours, and weekly cost of labor for manufacturing imported as \"mfg_labor_cost\".')\n",
    "print('Date range modified to start in 2010.')\n",
    "print('Monthly frequency has been resampled to quarterly.')"
   ]
  },
  {
   "cell_type": "code",
   "execution_count": 126,
   "metadata": {},
   "outputs": [
    {
     "name": "stdout",
     "output_type": "stream",
     "text": [
      "                   PPI\n",
      "2018-12-31  198.000000\n",
      "2019-03-31  195.866667\n",
      "\n",
      "\n",
      "Producer Price Index for manufacturing imported as \"ppi\".\n",
      "Date range modified to start in 2010.\n",
      "Monthly frequency has been resampled to quarterly.\n",
      "Index base year is 2012\n"
     ]
    }
   ],
   "source": [
    "ppi = pd.read_excel('mfg/PPI.xlsx', skiprows=10, usecols=['Value'])\n",
    "ppi.columns= ['PPI']\n",
    "ppi.set_index([dateind1], inplace=True)\n",
    "ppi = ppi.resample('Q').mean()\n",
    "ppi = ppi['01/01/2010':][:]\n",
    "print(ppi.tail(2))\n",
    "print('\\n')\n",
    "print('Producer Price Index for manufacturing imported as \"ppi\".')\n",
    "print('Date range modified to start in 2010.')\n",
    "print('Monthly frequency has been resampled to quarterly.')\n",
    "print('Index base year is 2012.')"
   ]
  },
  {
   "cell_type": "code",
   "execution_count": 125,
   "metadata": {},
   "outputs": [
    {
     "name": "stdout",
     "output_type": "stream",
     "text": [
      "            output per hour\n",
      "2018-09-30          101.305\n",
      "2018-12-31          101.803\n",
      "\n",
      "\n",
      "Productivity measure of output per hour imported as \"prod\".\n",
      "Date range modified to start in 2010.\n",
      "Data was already at quarterly frequency.\n",
      "IMPORTANT: This data is an index with a base year of 2012.\n"
     ]
    }
   ],
   "source": [
    "prod = pd.read_excel('mfg/laborprod_outputperhr.xlsx', skiprows=10, usecols=['Value'])\n",
    "prod.columns = ['output per hour']\n",
    "dateind3 = pd.date_range(start='01/01/2008', end='01/01/2019', freq='Q')\n",
    "prod.set_index([dateind3], inplace=True)\n",
    "prod = prod['01/01/2010':][:]\n",
    "print(prod.tail(2))\n",
    "print('\\n')\n",
    "print('Productivity measure of output per hour imported as \"prod\".')\n",
    "print('Date range modified to start in 2010.')\n",
    "print('Data was already at quarterly frequency.')\n",
    "print('IMPORTANT: This data is an index with a base year of 2012.')"
   ]
  },
  {
   "cell_type": "code",
   "execution_count": 198,
   "metadata": {},
   "outputs": [
    {
     "name": "stdout",
     "output_type": "stream",
     "text": [
      "           Priv Industry Manufacturing mfg pct of total\n",
      "2018-09-30       32899.4        6343.4         0.192812\n",
      "2018-12-31       33207.2        6359.5          0.19151\n",
      "\n",
      "\n",
      "Measure of total output, manufacturing output, and the mfg percent of total as \"mfg_go\".\n",
      "Data was already at quarterly frequency.\n"
     ]
    }
   ],
   "source": [
    "mfg_go = pd.read_excel('mfg/GrossOut_ind.xls', skiprows=7, header=None).T\n",
    "mfg_go.columns = ['Priv Industry', 'Manufacturing']\n",
    "mfg_go = mfg_go.iloc[2:,:][:]\n",
    "dateind4 = pd.date_range(start='01/01/2010', end = '01/01/2019', freq='Q')\n",
    "mfg_go.set_index([dateind4], inplace=True)\n",
    "mfg_go['mfg pct of total'] = mfg_go['Manufacturing']/mfg_go['Priv Industry']\n",
    "print(mfg_go.tail(2))\n",
    "print('\\n')\n",
    "print('Measure of total output, manufacturing output, and the mfg percent of total as \"mfg_go\".')\n",
    "print('Data was already at quarterly frequency.')"
   ]
  },
  {
   "cell_type": "code",
   "execution_count": 206,
   "metadata": {},
   "outputs": [
    {
     "name": "stdout",
     "output_type": "stream",
     "text": [
      "           Priv Industry Manufacturing mfg pct of total\n",
      "2018-09-30       32899.4        6343.4         0.192812\n",
      "2018-12-31       33207.2        6359.5          0.19151\n",
      "\n",
      "\n",
      "Measure of value value added, manufacturing value added, and the mfg percent of total as \"mfg_va\".\n",
      "Data was already at quarterly frequency.\n",
      "Value added is:\n",
      "Difference between gross output and intermediate inputs and represents the value of labor\n",
      "and capital used in producing gross output. \n"
     ]
    }
   ],
   "source": [
    "mfg_va = pd.read_excel('mfg/ValueAdded_ind.xls', skiprows=7, header=None).T\n",
    "mfg_va.columns = ['Priv Industry', 'Manufacturing']\n",
    "mfg_va = mfg_va.iloc[2:,:][:]\n",
    "mfg_va.set_index([dateind4], inplace=True)\n",
    "mfg_va['mfg pct of total'] = mfg_va['Manufacturing']/mfg_va['Priv Industry']\n",
    "print(mfg_va.tail(2))\n",
    "print('\\n')\n",
    "print('Measure of value value added, manufacturing value added, and the mfg percent of total as \"mfg_va\".')\n",
    "print('Data was already at quarterly frequency.')\n",
    "print('Value added is:\\nDifference between gross output and intermediate inputs and represents the value of labor\\nand capital used in producing gross output. ')"
   ]
  },
  {
   "cell_type": "markdown",
   "metadata": {},
   "source": [
    "The next steps invovle the initial analysis in testing the production effect theory. The initial analysis below will apply linear regression in defining the relationship between productivity and labor demanded for manufacturing. It should be noted that any data compared with productivity should be converted to an index with a base year of 2012 to mimic the productivity data set."
   ]
  },
  {
   "cell_type": "code",
   "execution_count": 229,
   "metadata": {},
   "outputs": [
    {
     "data": {
      "text/plain": [
       "<matplotlib.axes._subplots.AxesSubplot at 0x2ac4586ccc0>"
      ]
     },
     "execution_count": 229,
     "metadata": {},
     "output_type": "execute_result"
    },
    {
     "data": {
      "image/png": "[encoded data removed]",
      "text/plain": [
       "<Figure size 432x288 with 1 Axes>"
      ]
     },
     "metadata": {
      "needs_background": "light"
     },
     "output_type": "display_data"
    }
   ],
   "source": [
    "mfg_labor_cost.iloc[:,1].plot()"
   ]
  },
  {
   "cell_type": "code",
   "execution_count": 249,
   "metadata": {},
   "outputs": [
    {
     "data": {
      "text/html": [
       "<table class=\"simpletable\">\n",
       "<caption>OLS Regression Results</caption>\n",
       "<tr>\n",
       "  <th>Dep. Variable:</th>       <td>Net Demand</td>    <th>  R-squared:         </th> <td>   0.706</td>\n",
       "</tr>\n",
       "<tr>\n",
       "  <th>Model:</th>                   <td>OLS</td>       <th>  Adj. R-squared:    </th> <td>   0.697</td>\n",
       "</tr>\n",
       "<tr>\n",
       "  <th>Method:</th>             <td>Least Squares</td>  <th>  F-statistic:       </th> <td>   83.91</td>\n",
       "</tr>\n",
       "<tr>\n",
       "  <th>Date:</th>             <td>Fri, 19 Apr 2019</td> <th>  Prob (F-statistic):</th> <td>7.99e-11</td>\n",
       "</tr>\n",
       "<tr>\n",
       "  <th>Time:</th>                 <td>12:37:34</td>     <th>  Log-Likelihood:    </th> <td> -180.33</td>\n",
       "</tr>\n",
       "<tr>\n",
       "  <th>No. Observations:</th>      <td>    36</td>      <th>  AIC:               </th> <td>   362.7</td>\n",
       "</tr>\n",
       "<tr>\n",
       "  <th>Df Residuals:</th>          <td>    35</td>      <th>  BIC:               </th> <td>   364.2</td>\n",
       "</tr>\n",
       "<tr>\n",
       "  <th>Df Model:</th>              <td>     1</td>      <th>                     </th>     <td> </td>   \n",
       "</tr>\n",
       "<tr>\n",
       "  <th>Covariance Type:</th>      <td>nonrobust</td>    <th>                     </th>     <td> </td>   \n",
       "</tr>\n",
       "</table>\n",
       "<table class=\"simpletable\">\n",
       "<tr>\n",
       "   <td></td>     <th>coef</th>     <th>std err</th>      <th>t</th>      <th>P>|t|</th>  <th>[0.025</th>    <th>0.975]</th>  \n",
       "</tr>\n",
       "<tr>\n",
       "  <th>x1</th> <td>    2.6447</td> <td>    0.289</td> <td>    9.160</td> <td> 0.000</td> <td>    2.059</td> <td>    3.231</td>\n",
       "</tr>\n",
       "</table>\n",
       "<table class=\"simpletable\">\n",
       "<tr>\n",
       "  <th>Omnibus:</th>       <td> 2.265</td> <th>  Durbin-Watson:     </th> <td>   0.857</td>\n",
       "</tr>\n",
       "<tr>\n",
       "  <th>Prob(Omnibus):</th> <td> 0.322</td> <th>  Jarque-Bera (JB):  </th> <td>   1.388</td>\n",
       "</tr>\n",
       "<tr>\n",
       "  <th>Skew:</th>          <td>-0.465</td> <th>  Prob(JB):          </th> <td>   0.500</td>\n",
       "</tr>\n",
       "<tr>\n",
       "  <th>Kurtosis:</th>      <td> 3.242</td> <th>  Cond. No.          </th> <td>    1.00</td>\n",
       "</tr>\n",
       "</table><br/><br/>Warnings:<br/>[1] Standard Errors assume that the covariance matrix of the errors is correctly specified."
      ],
      "text/plain": [
       "<class 'statsmodels.iolib.summary.Summary'>\n",
       "\"\"\"\n",
       "                            OLS Regression Results                            \n",
       "==============================================================================\n",
       "Dep. Variable:             Net Demand   R-squared:                       0.706\n",
       "Model:                            OLS   Adj. R-squared:                  0.697\n",
       "Method:                 Least Squares   F-statistic:                     83.91\n",
       "Date:                Fri, 19 Apr 2019   Prob (F-statistic):           7.99e-11\n",
       "Time:                        12:37:34   Log-Likelihood:                -180.33\n",
       "No. Observations:                  36   AIC:                             362.7\n",
       "Df Residuals:                      35   BIC:                             364.2\n",
       "Df Model:                           1                                         \n",
       "Covariance Type:            nonrobust                                         \n",
       "==============================================================================\n",
       "                 coef    std err          t      P>|t|      [0.025      0.975]\n",
       "------------------------------------------------------------------------------\n",
       "x1             2.6447      0.289      9.160      0.000       2.059       3.231\n",
       "==============================================================================\n",
       "Omnibus:                        2.265   Durbin-Watson:                   0.857\n",
       "Prob(Omnibus):                  0.322   Jarque-Bera (JB):                1.388\n",
       "Skew:                          -0.465   Prob(JB):                        0.500\n",
       "Kurtosis:                       3.242   Cond. No.                         1.00\n",
       "==============================================================================\n",
       "\n",
       "Warnings:\n",
       "[1] Standard Errors assume that the covariance matrix of the errors is correctly specified.\n",
       "\"\"\""
      ]
     },
     "execution_count": 249,
     "metadata": {},
     "output_type": "execute_result"
    }
   ],
   "source": [
    "X = []\n",
    "for x in range(len(prod.index)):\n",
    "    temp = 1+x\n",
    "    X.append(temp)\n",
    "\n",
    "y = mfg_labor_adj['Net Demand']['01/01/2010':'01/01/2019']\n",
    "\n",
    "model = sm.OLS(y, X).fit()\n",
    "predictions = model.predict(X) \n",
    "\n",
    "model.summary()"
   ]
  },
  {
   "cell_type": "code",
   "execution_count": 251,
   "metadata": {},
   "outputs": [
    {
     "ename": "AttributeError",
     "evalue": "'OLSResults' object has no attribute 'predictions'",
     "output_type": "error",
     "traceback": [
      "\u001b[1;31m---------------------------------------------------------------------------\u001b[0m",
      "\u001b[1;31mAttributeError\u001b[0m                            Traceback (most recent call last)",
      "\u001b[1;32m<ipython-input-251-029461678c52>\u001b[0m in \u001b[0;36m<module>\u001b[1;34m\u001b[0m\n\u001b[1;32m----> 1\u001b[1;33m \u001b[0mmodel\u001b[0m\u001b[1;33m.\u001b[0m\u001b[0mpredictions\u001b[0m\u001b[1;33m(\u001b[0m\u001b[1;33m)\u001b[0m\u001b[1;33m\u001b[0m\u001b[1;33m\u001b[0m\u001b[0m\n\u001b[0m",
      "\u001b[1;32mc:\\users\\daman\\python_all\\lib\\site-packages\\statsmodels\\base\\wrapper.py\u001b[0m in \u001b[0;36m__getattribute__\u001b[1;34m(self, attr)\u001b[0m\n\u001b[0;32m     33\u001b[0m             \u001b[1;32mpass\u001b[0m\u001b[1;33m\u001b[0m\u001b[1;33m\u001b[0m\u001b[0m\n\u001b[0;32m     34\u001b[0m \u001b[1;33m\u001b[0m\u001b[0m\n\u001b[1;32m---> 35\u001b[1;33m         \u001b[0mobj\u001b[0m \u001b[1;33m=\u001b[0m \u001b[0mgetattr\u001b[0m\u001b[1;33m(\u001b[0m\u001b[0mresults\u001b[0m\u001b[1;33m,\u001b[0m \u001b[0mattr\u001b[0m\u001b[1;33m)\u001b[0m\u001b[1;33m\u001b[0m\u001b[1;33m\u001b[0m\u001b[0m\n\u001b[0m\u001b[0;32m     36\u001b[0m         \u001b[0mdata\u001b[0m \u001b[1;33m=\u001b[0m \u001b[0mresults\u001b[0m\u001b[1;33m.\u001b[0m\u001b[0mmodel\u001b[0m\u001b[1;33m.\u001b[0m\u001b[0mdata\u001b[0m\u001b[1;33m\u001b[0m\u001b[1;33m\u001b[0m\u001b[0m\n\u001b[0;32m     37\u001b[0m         \u001b[0mhow\u001b[0m \u001b[1;33m=\u001b[0m \u001b[0mself\u001b[0m\u001b[1;33m.\u001b[0m\u001b[0m_wrap_attrs\u001b[0m\u001b[1;33m.\u001b[0m\u001b[0mget\u001b[0m\u001b[1;33m(\u001b[0m\u001b[0mattr\u001b[0m\u001b[1;33m)\u001b[0m\u001b[1;33m\u001b[0m\u001b[1;33m\u001b[0m\u001b[0m\n",
      "\u001b[1;31mAttributeError\u001b[0m: 'OLSResults' object has no attribute 'predictions'"
     ]
    }
   ],
   "source": []
  },
  {
   "cell_type": "code",
   "execution_count": null,
   "metadata": {},
   "outputs": [],
   "source": []
  }
 ],
 "metadata": {
  "kernelspec": {
   "display_name": "Python 3",
   "language": "python",
   "name": "python3"
  },
  "language_info": {
   "codemirror_mode": {
    "name": "ipython",
    "version": 3
   },
   "file_extension": ".py",
   "mimetype": "text/x-python",
   "name": "python",
   "nbconvert_exporter": "python",
   "pygments_lexer": "ipython3",
   "version": "3.7.3"
  }
 },
 "nbformat": 4,
 "nbformat_minor": 2
}
